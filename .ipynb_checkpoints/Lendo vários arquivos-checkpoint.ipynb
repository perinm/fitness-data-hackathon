{
 "cells": [
  {
   "cell_type": "code",
   "execution_count": 53,
   "metadata": {},
   "outputs": [],
   "source": [
    "import pandas as pd\n",
    "import json\n",
    "import os"
   ]
  },
  {
   "cell_type": "code",
   "execution_count": 43,
   "metadata": {},
   "outputs": [
    {
     "name": "stdout",
     "output_type": "stream",
     "text": [
      "id: 2016-01-01-341106810\n"
     ]
    }
   ],
   "source": [
    "file = \"dataset/processed_training-session-2016-01-01-341106810-843383be-3014-45f5-abec-f10e2a637e64.json\"\n",
    "f = open('dataset/processed_training-session-2016-01-01-341106810-843383be-3014-45f5-abec-f10e2a637e64.json',)\n",
    "print(\"id:\",file[35:55])"
   ]
  },
  {
   "cell_type": "code",
   "execution_count": 69,
   "metadata": {},
   "outputs": [
    {
     "name": "stdout",
     "output_type": "stream",
     "text": [
      "processed_training-session-2016-05-13-577540310-bfb1fa5a-bd43-40a2-a89b-0ce06fafabd2.json\n",
      "dataset/processed_training-session-2016-05-13-577540310-bfb1fa5a-bd43-40a2-a89b-0ce06fafabd2.json\n",
      "id: 2016-05-13-577540310\n"
     ]
    },
    {
     "ename": "KeyError",
     "evalue": "'latitude'",
     "output_type": "error",
     "traceback": [
      "\u001b[0;31m---------------------------------------------------------------------------\u001b[0m",
      "\u001b[0;31mKeyError\u001b[0m                                  Traceback (most recent call last)",
      "\u001b[0;32m<ipython-input-69-a2103b939f28>\u001b[0m in \u001b[0;36m<module>\u001b[0;34m\u001b[0m\n\u001b[1;32m     23\u001b[0m                 {\n\u001b[1;32m     24\u001b[0m                     \u001b[0;34m\"Id\"\u001b[0m\u001b[0;34m:\u001b[0m\u001b[0mfilename\u001b[0m\u001b[0;34m[\u001b[0m\u001b[0;36m27\u001b[0m\u001b[0;34m:\u001b[0m\u001b[0;36m47\u001b[0m\u001b[0;34m]\u001b[0m\u001b[0;34m,\u001b[0m\u001b[0;34m\u001b[0m\u001b[0;34m\u001b[0m\u001b[0m\n\u001b[0;32m---> 25\u001b[0;31m                     \u001b[0;34m'StartLAT'\u001b[0m\u001b[0;34m:\u001b[0m\u001b[0mdata\u001b[0m\u001b[0;34m[\u001b[0m\u001b[0;34m\"latitude\"\u001b[0m\u001b[0;34m]\u001b[0m\u001b[0;34m,\u001b[0m\u001b[0;34m\u001b[0m\u001b[0;34m\u001b[0m\u001b[0m\n\u001b[0m\u001b[1;32m     26\u001b[0m                     \u001b[0;34m'StartLONG'\u001b[0m\u001b[0;34m:\u001b[0m\u001b[0mdata\u001b[0m\u001b[0;34m[\u001b[0m\u001b[0;34m\"longitude\"\u001b[0m\u001b[0;34m]\u001b[0m\u001b[0;34m,\u001b[0m\u001b[0;34m\u001b[0m\u001b[0;34m\u001b[0m\u001b[0m\n\u001b[1;32m     27\u001b[0m                     \u001b[0;34m'StartTime'\u001b[0m\u001b[0;34m:\u001b[0m\u001b[0mdata\u001b[0m\u001b[0;34m[\u001b[0m\u001b[0;34m\"startTime\"\u001b[0m\u001b[0;34m]\u001b[0m\u001b[0;34m,\u001b[0m\u001b[0;34m\u001b[0m\u001b[0;34m\u001b[0m\u001b[0m\n",
      "\u001b[0;31mKeyError\u001b[0m: 'latitude'"
     ]
    }
   ],
   "source": [
    "directory = 'dataset'\n",
    "df = pd.DataFrame(columns=[\"Id\",'StartTime','EndTime','StartLAT','StartLONG',\"Distance\"])\n",
    "for filename in os.listdir(directory):\n",
    "    print(filename)\n",
    "    if filename.endswith(\".json\"):\n",
    "        print(str(directory+\"/\"+filename))\n",
    "        print(\"id:\",filename[27:47])\n",
    "        file = open(str(directory+\"/\"+filename))\n",
    "        data = json.load(file)\n",
    "        dici = {}\n",
    "        if \"distance\" in data:\n",
    "            df = df.append(\n",
    "                {\n",
    "                    \"Id\":filename[27:47],\n",
    "                    'StartLAT':data[\"latitude\"],\n",
    "                    'StartLONG':data[\"longitude\"],\n",
    "                    'StartTime':data[\"startTime\"],\n",
    "                    'EndTime':data[\"stopTime\"],\n",
    "                    'Distance':data[\"distance\"]\n",
    "                },ignore_index=True\n",
    "            )\n",
    "        else:\n",
    "            df = df.append(\n",
    "                {\n",
    "                    \"Id\":filename[27:47],\n",
    "                    'StartLAT':data[\"latitude\"],\n",
    "                    'StartLONG':data[\"longitude\"],\n",
    "                    'StartTime':data[\"startTime\"],\n",
    "                    'EndTime':data[\"stopTime\"]\n",
    "                },ignore_index=True\n",
    "            )"
   ]
  },
  {
   "cell_type": "code",
   "execution_count": 44,
   "metadata": {},
   "outputs": [],
   "source": [
    "data = json.load(f)\n",
    "#data[\"latitude\"],data[\"longitude\"],data[\"startTime\"],data[\"stopTime\"],data[\"distance\"]"
   ]
  },
  {
   "cell_type": "code",
   "execution_count": 45,
   "metadata": {},
   "outputs": [],
   "source": [
    "df = pd.DataFrame(columns=[\"Id\",'StartTime','EndTime','StartLAT','StartLONG',\"Distance\"])"
   ]
  },
  {
   "cell_type": "code",
   "execution_count": 46,
   "metadata": {},
   "outputs": [],
   "source": [
    "if data[\"distance\"]:\n",
    "    df = df.append(\n",
    "        {\n",
    "            \"Id\":file[35:55],\n",
    "            'StartLAT':data[\"latitude\"],\n",
    "            'StartLONG':data[\"longitude\"],\n",
    "            'StartTime':data[\"startTime\"],\n",
    "            'EndTime':data[\"stopTime\"],\n",
    "            'Distance':data[\"distance\"]\n",
    "        },ignore_index=True\n",
    "    )\n",
    "else:\n",
    "    df = df.append(\n",
    "        {\n",
    "            \"Id\":file[35:55],\n",
    "            'StartLAT':data[\"latitude\"],\n",
    "            'StartLONG':data[\"longitude\"],\n",
    "            'StartTime':data[\"startTime\"],\n",
    "            'EndTime':data[\"stopTime\"]\n",
    "        },ignore_index=True\n",
    "    )"
   ]
  },
  {
   "cell_type": "code",
   "execution_count": 48,
   "metadata": {},
   "outputs": [],
   "source": [
    "df['StartTime'] = pd.to_datetime(df[\"StartTime\"])"
   ]
  },
  {
   "cell_type": "code",
   "execution_count": 52,
   "metadata": {},
   "outputs": [
    {
     "data": {
      "text/plain": [
       "0   2016-01-01 18:52:47.797\n",
       "Name: StartTime, dtype: datetime64[ns]"
      ]
     },
     "execution_count": 52,
     "metadata": {},
     "output_type": "execute_result"
    }
   ],
   "source": [
    "df[\"StartTime\"]"
   ]
  }
 ],
 "metadata": {
  "kernelspec": {
   "display_name": "Python 3",
   "language": "python",
   "name": "python3"
  },
  "language_info": {
   "codemirror_mode": {
    "name": "ipython",
    "version": 3
   },
   "file_extension": ".py",
   "mimetype": "text/x-python",
   "name": "python",
   "nbconvert_exporter": "python",
   "pygments_lexer": "ipython3",
   "version": "3.8.3"
  }
 },
 "nbformat": 4,
 "nbformat_minor": 4
}
