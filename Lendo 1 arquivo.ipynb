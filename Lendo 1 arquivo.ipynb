{
 "cells": [
  {
   "cell_type": "code",
   "execution_count": 70,
   "metadata": {},
   "outputs": [],
   "source": [
    "import pandas as pd\n",
    "import json\n",
    "import os"
   ]
  },
  {
   "cell_type": "code",
   "execution_count": 71,
   "metadata": {},
   "outputs": [
    {
     "name": "stdout",
     "output_type": "stream",
     "text": [
      "id: 2016-01-01-341106810\n"
     ]
    }
   ],
   "source": [
    "file = \"dataset/processed_training-session-2016-01-01-341106810-843383be-3014-45f5-abec-f10e2a637e64.json\"\n",
    "f = open('dataset/processed_training-session-2016-01-01-341106810-843383be-3014-45f5-abec-f10e2a637e64.json',)\n",
    "print(\"id:\",file[35:55])"
   ]
  },
  {
   "cell_type": "code",
   "execution_count": 72,
   "metadata": {},
   "outputs": [],
   "source": [
    "data = json.load(f)\n",
    "#data[\"latitude\"],data[\"longitude\"],data[\"startTime\"],data[\"stopTime\"],data[\"distance\"]"
   ]
  },
  {
   "cell_type": "code",
   "execution_count": 73,
   "metadata": {},
   "outputs": [],
   "source": [
    "df = pd.DataFrame(columns=[\"Id\",'StartTime','EndTime','StartLAT','StartLONG',\"Distance\"])"
   ]
  },
  {
   "cell_type": "code",
   "execution_count": 74,
   "metadata": {},
   "outputs": [],
   "source": [
    "if data[\"distance\"]:\n",
    "    df = df.append(\n",
    "        {\n",
    "            \"Id\":file[35:55],\n",
    "            'StartLAT':data[\"latitude\"],\n",
    "            'StartLONG':data[\"longitude\"],\n",
    "            'StartTime':data[\"startTime\"],\n",
    "            'EndTime':data[\"stopTime\"],\n",
    "            'Distance':data[\"distance\"]\n",
    "        },ignore_index=True\n",
    "    )\n",
    "else:\n",
    "    df = df.append(\n",
    "        {\n",
    "            \"Id\":file[35:55],\n",
    "            'StartLAT':data[\"latitude\"],\n",
    "            'StartLONG':data[\"longitude\"],\n",
    "            'StartTime':data[\"startTime\"],\n",
    "            'EndTime':data[\"stopTime\"]\n",
    "        },ignore_index=True\n",
    "    )"
   ]
  },
  {
   "cell_type": "code",
   "execution_count": 75,
   "metadata": {},
   "outputs": [],
   "source": [
    "df['StartTime'] = pd.to_datetime(df[\"StartTime\"])"
   ]
  },
  {
   "cell_type": "code",
   "execution_count": 76,
   "metadata": {},
   "outputs": [
    {
     "data": {
      "text/plain": [
       "0   2016-01-01 18:52:47.797\n",
       "Name: StartTime, dtype: datetime64[ns]"
      ]
     },
     "execution_count": 76,
     "metadata": {},
     "output_type": "execute_result"
    }
   ],
   "source": [
    "df[\"StartTime\"]"
   ]
  },
  {
   "cell_type": "code",
   "execution_count": 77,
   "metadata": {},
   "outputs": [
    {
     "data": {
      "text/html": [
       "<div>\n",
       "<style scoped>\n",
       "    .dataframe tbody tr th:only-of-type {\n",
       "        vertical-align: middle;\n",
       "    }\n",
       "\n",
       "    .dataframe tbody tr th {\n",
       "        vertical-align: top;\n",
       "    }\n",
       "\n",
       "    .dataframe thead th {\n",
       "        text-align: right;\n",
       "    }\n",
       "</style>\n",
       "<table border=\"1\" class=\"dataframe\">\n",
       "  <thead>\n",
       "    <tr style=\"text-align: right;\">\n",
       "      <th></th>\n",
       "      <th>Id</th>\n",
       "      <th>StartTime</th>\n",
       "      <th>EndTime</th>\n",
       "      <th>StartLAT</th>\n",
       "      <th>StartLONG</th>\n",
       "      <th>Distance</th>\n",
       "    </tr>\n",
       "  </thead>\n",
       "  <tbody>\n",
       "    <tr>\n",
       "      <th>0</th>\n",
       "      <td>2016-01-01-341106810</td>\n",
       "      <td>2016-01-01 18:52:47.797</td>\n",
       "      <td>2016-01-01T19:26:47.565</td>\n",
       "      <td>-23.011081</td>\n",
       "      <td>-43.369457</td>\n",
       "      <td>4866.0</td>\n",
       "    </tr>\n",
       "  </tbody>\n",
       "</table>\n",
       "</div>"
      ],
      "text/plain": [
       "                     Id               StartTime                  EndTime  \\\n",
       "0  2016-01-01-341106810 2016-01-01 18:52:47.797  2016-01-01T19:26:47.565   \n",
       "\n",
       "    StartLAT  StartLONG  Distance  \n",
       "0 -23.011081 -43.369457    4866.0  "
      ]
     },
     "execution_count": 77,
     "metadata": {},
     "output_type": "execute_result"
    }
   ],
   "source": [
    "df"
   ]
  }
 ],
 "metadata": {
  "kernelspec": {
   "display_name": "Python 3",
   "language": "python",
   "name": "python3"
  },
  "language_info": {
   "codemirror_mode": {
    "name": "ipython",
    "version": 3
   },
   "file_extension": ".py",
   "mimetype": "text/x-python",
   "name": "python",
   "nbconvert_exporter": "python",
   "pygments_lexer": "ipython3",
   "version": "3.8.3"
  }
 },
 "nbformat": 4,
 "nbformat_minor": 4
}
